{
 "cells": [
  {
   "cell_type": "code",
   "execution_count": null,
   "id": "629c4435",
   "metadata": {},
   "outputs": [],
   "source": [
    "import pandas as pd"
   ]
  },
  {
   "cell_type": "code",
   "execution_count": 5,
   "id": "f84a20f1",
   "metadata": {},
   "outputs": [],
   "source": [
    "family_guy= pd.read_html('https://en.wikipedia.org/wiki/List_of_Family_Guy_episodes')"
   ]
  },
  {
   "cell_type": "code",
   "execution_count": 6,
   "id": "5b3ec1f9",
   "metadata": {},
   "outputs": [
    {
     "data": {
      "text/plain": [
       "30"
      ]
     },
     "execution_count": 6,
     "metadata": {},
     "output_type": "execute_result"
    }
   ],
   "source": [
    "len(family_guy)"
   ]
  },
  {
   "cell_type": "code",
   "execution_count": 9,
   "id": "704db1a7",
   "metadata": {},
   "outputs": [
    {
     "data": {
      "text/html": [
       "<div>\n",
       "<style scoped>\n",
       "    .dataframe tbody tr th:only-of-type {\n",
       "        vertical-align: middle;\n",
       "    }\n",
       "\n",
       "    .dataframe tbody tr th {\n",
       "        vertical-align: top;\n",
       "    }\n",
       "\n",
       "    .dataframe thead th {\n",
       "        text-align: right;\n",
       "    }\n",
       "</style>\n",
       "<table border=\"1\" class=\"dataframe\">\n",
       "  <thead>\n",
       "    <tr style=\"text-align: right;\">\n",
       "      <th></th>\n",
       "      <th>No. overall</th>\n",
       "      <th>No. in season</th>\n",
       "      <th>Title</th>\n",
       "      <th>Directed by</th>\n",
       "      <th>Written by</th>\n",
       "      <th>Original release date</th>\n",
       "      <th>Prod. code</th>\n",
       "      <th>U.S. viewers (millions)</th>\n",
       "    </tr>\n",
       "  </thead>\n",
       "  <tbody>\n",
       "    <tr>\n",
       "      <th>0</th>\n",
       "      <td>1</td>\n",
       "      <td>1</td>\n",
       "      <td>\"Death Has a Shadow\"</td>\n",
       "      <td>Peter Shin</td>\n",
       "      <td>Seth MacFarlane</td>\n",
       "      <td>January 31, 1999</td>\n",
       "      <td>1ACX01</td>\n",
       "      <td>22.00[36]</td>\n",
       "    </tr>\n",
       "    <tr>\n",
       "      <th>1</th>\n",
       "      <td>2</td>\n",
       "      <td>2</td>\n",
       "      <td>\"I Never Met the Dead Man\"</td>\n",
       "      <td>Michael Dante DiMartino</td>\n",
       "      <td>Chris Sheridan</td>\n",
       "      <td>April 11, 1999</td>\n",
       "      <td>1ACX02</td>\n",
       "      <td>14.50[37]</td>\n",
       "    </tr>\n",
       "    <tr>\n",
       "      <th>2</th>\n",
       "      <td>3</td>\n",
       "      <td>3</td>\n",
       "      <td>\"Chitty Chitty Death Bang\"</td>\n",
       "      <td>Dominic Polcino</td>\n",
       "      <td>Danny Smith</td>\n",
       "      <td>April 18, 1999</td>\n",
       "      <td>1ACX04</td>\n",
       "      <td>13.78[38]</td>\n",
       "    </tr>\n",
       "    <tr>\n",
       "      <th>3</th>\n",
       "      <td>4</td>\n",
       "      <td>4</td>\n",
       "      <td>\"Mind Over Murder\"</td>\n",
       "      <td>Roy Allen Smith</td>\n",
       "      <td>Neil Goldman &amp; Garrett Donovan</td>\n",
       "      <td>April 25, 1999</td>\n",
       "      <td>1ACX03</td>\n",
       "      <td>11.69[39]</td>\n",
       "    </tr>\n",
       "    <tr>\n",
       "      <th>4</th>\n",
       "      <td>5</td>\n",
       "      <td>5</td>\n",
       "      <td>\"A Hero Sits Next Door\"</td>\n",
       "      <td>Monte Young</td>\n",
       "      <td>Mike Barker &amp; Matt Weitzman</td>\n",
       "      <td>May 2, 1999</td>\n",
       "      <td>1ACX05</td>\n",
       "      <td>12.61[40]</td>\n",
       "    </tr>\n",
       "    <tr>\n",
       "      <th>5</th>\n",
       "      <td>6</td>\n",
       "      <td>6</td>\n",
       "      <td>\"The Son Also Draws\"</td>\n",
       "      <td>Neil Affleck</td>\n",
       "      <td>Ricky Blitt</td>\n",
       "      <td>May 9, 1999</td>\n",
       "      <td>1ACX06</td>\n",
       "      <td>11.20[41]</td>\n",
       "    </tr>\n",
       "    <tr>\n",
       "      <th>6</th>\n",
       "      <td>7</td>\n",
       "      <td>7</td>\n",
       "      <td>\"Brian: Portrait of a Dog\"</td>\n",
       "      <td>Michael Dante DiMartino</td>\n",
       "      <td>Gary Janetti</td>\n",
       "      <td>May 16, 1999</td>\n",
       "      <td>1ACX07</td>\n",
       "      <td>13.10[42]</td>\n",
       "    </tr>\n",
       "  </tbody>\n",
       "</table>\n",
       "</div>"
      ],
      "text/plain": [
       "   No. overall  No. in season                       Title  \\\n",
       "0            1              1        \"Death Has a Shadow\"   \n",
       "1            2              2  \"I Never Met the Dead Man\"   \n",
       "2            3              3  \"Chitty Chitty Death Bang\"   \n",
       "3            4              4          \"Mind Over Murder\"   \n",
       "4            5              5     \"A Hero Sits Next Door\"   \n",
       "5            6              6        \"The Son Also Draws\"   \n",
       "6            7              7  \"Brian: Portrait of a Dog\"   \n",
       "\n",
       "               Directed by                      Written by  \\\n",
       "0               Peter Shin                 Seth MacFarlane   \n",
       "1  Michael Dante DiMartino                  Chris Sheridan   \n",
       "2          Dominic Polcino                     Danny Smith   \n",
       "3          Roy Allen Smith  Neil Goldman & Garrett Donovan   \n",
       "4              Monte Young     Mike Barker & Matt Weitzman   \n",
       "5             Neil Affleck                     Ricky Blitt   \n",
       "6  Michael Dante DiMartino                    Gary Janetti   \n",
       "\n",
       "  Original release date Prod. code U.S. viewers (millions)  \n",
       "0      January 31, 1999     1ACX01               22.00[36]  \n",
       "1        April 11, 1999     1ACX02               14.50[37]  \n",
       "2        April 18, 1999     1ACX04               13.78[38]  \n",
       "3        April 25, 1999     1ACX03               11.69[39]  \n",
       "4           May 2, 1999     1ACX05               12.61[40]  \n",
       "5           May 9, 1999     1ACX06               11.20[41]  \n",
       "6          May 16, 1999     1ACX07               13.10[42]  "
      ]
     },
     "execution_count": 9,
     "metadata": {},
     "output_type": "execute_result"
    }
   ],
   "source": [
    "family_guy[1]"
   ]
  }
 ],
 "metadata": {
  "kernelspec": {
   "display_name": "Python 3",
   "language": "python",
   "name": "python3"
  },
  "language_info": {
   "codemirror_mode": {
    "name": "ipython",
    "version": 3
   },
   "file_extension": ".py",
   "mimetype": "text/x-python",
   "name": "python",
   "nbconvert_exporter": "python",
   "pygments_lexer": "ipython3",
   "version": "3.13.2"
  }
 },
 "nbformat": 4,
 "nbformat_minor": 5
}
