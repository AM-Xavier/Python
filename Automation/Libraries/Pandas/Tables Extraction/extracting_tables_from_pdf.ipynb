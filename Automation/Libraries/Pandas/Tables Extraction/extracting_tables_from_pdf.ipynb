{
 "cells": [
  {
   "cell_type": "code",
   "execution_count": 1,
   "id": "3fd28409",
   "metadata": {},
   "outputs": [],
   "source": [
    "import camelot"
   ]
  },
  {
   "cell_type": "code",
   "execution_count": 5,
   "id": "cc333853",
   "metadata": {},
   "outputs": [],
   "source": [
    "tables = camelot.read_pdf('extrato_disciplinas.pdf', pages='1')"
   ]
  },
  {
   "cell_type": "code",
   "execution_count": 6,
   "id": "d6c918cb",
   "metadata": {},
   "outputs": [
    {
     "data": {
      "text/plain": [
       "<TableList n=1>"
      ]
     },
     "execution_count": 6,
     "metadata": {},
     "output_type": "execute_result"
    }
   ],
   "source": [
    "tables"
   ]
  },
  {
   "cell_type": "code",
   "execution_count": 7,
   "id": "33e20cb9",
   "metadata": {},
   "outputs": [],
   "source": [
    "tables.export('extrato_disciplinas.csv', f='csv', compress=True)"
   ]
  },
  {
   "cell_type": "code",
   "execution_count": 8,
   "id": "e0bb6b42",
   "metadata": {},
   "outputs": [],
   "source": [
    "tables[0].to_csv('extrato_disciplinas.csv')"
   ]
  }
 ],
 "metadata": {
  "kernelspec": {
   "display_name": "Python 3",
   "language": "python",
   "name": "python3"
  },
  "language_info": {
   "codemirror_mode": {
    "name": "ipython",
    "version": 3
   },
   "file_extension": ".py",
   "mimetype": "text/x-python",
   "name": "python",
   "nbconvert_exporter": "python",
   "pygments_lexer": "ipython3",
   "version": "3.13.2"
  }
 },
 "nbformat": 4,
 "nbformat_minor": 5
}
